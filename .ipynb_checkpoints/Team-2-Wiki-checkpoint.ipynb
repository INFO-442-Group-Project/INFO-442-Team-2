{
 "cells": [
  {
   "cell_type": "markdown",
   "metadata": {},
   "source": [
    "# Communication policies\n",
    "### What are your team's expectations about timeliness of replies? Immediately? Within the hour? By the end of the day?\n",
    "- If an assignment was due that day, then we expect should expect a reply at least 4 hours before the due date. \n",
    "- We should always be checking Slack if there is upcoming due date\n",
    "- In other scenarios, such stuff outside of the work that needs to be done, we should expect a reply at least by the end of the day\n",
    "\n",
    "### When should you use @channel to make an announcement on Slack? (Links to an external site.)\n",
    "- We feel that all of us are pretty good with keeping up with the messages on Slack, but in case we need some important \n",
    "information about an assignment from somebody we can just @ them on Slack.\n",
    "- We can use @channel if we ever feel like there is an important detail no one should miss.\n",
    "\n",
    "### When someone asks a question, who should reply? The \"right\" person or everyone?\n",
    "- We feel like everyone should have the right to reply if they feel like they have the answer to someone's question. If the\n",
    "question requires a specific person to answer it, then they should @ that person to get the answer from them."
   ]
  }
 ],
 "metadata": {
  "kernelspec": {
   "display_name": "Python 3",
   "language": "python",
   "name": "python3"
  },
  "language_info": {
   "codemirror_mode": {
    "name": "ipython",
    "version": 3
   },
   "file_extension": ".py",
   "mimetype": "text/x-python",
   "name": "python",
   "nbconvert_exporter": "python",
   "pygments_lexer": "ipython3",
   "version": "3.7.1"
  }
 },
 "nbformat": 4,
 "nbformat_minor": 2
}
